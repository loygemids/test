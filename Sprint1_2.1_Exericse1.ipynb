{
 "cells": [
  {
   "cell_type": "markdown",
   "metadata": {},
   "source": [
    "# GROUP ACTIVITY"
   ]
  },
  {
   "cell_type": "markdown",
   "metadata": {},
   "source": [
    "In this activity, there all 12 questions prepared with varying levels of difficulty. Your task is to answer as many as you can AS A GROUP. Each question is independent of one another. Delegate and strategize on how you will answer the most number of questions. **Good luck! :)**"
   ]
  },
  {
   "cell_type": "markdown",
   "metadata": {},
   "source": [
    "#### First, setup the data"
   ]
  },
  {
   "cell_type": "code",
   "execution_count": 1,
   "metadata": {},
   "outputs": [],
   "source": [
    "import pandas as pd\n",
    "import numpy as np\n",
    "import matplotlib.pyplot as plt"
   ]
  },
  {
   "cell_type": "code",
   "execution_count": 2,
   "metadata": {},
   "outputs": [
    {
     "name": "stderr",
     "output_type": "stream",
     "text": [
      "C:\\Users\\christopher.gemida\\Anaconda3\\lib\\site-packages\\IPython\\core\\interactiveshell.py:3165: DtypeWarning: Columns (10,11) have mixed types.Specify dtype option on import or set low_memory=False.\n",
      "  has_raised = await self.run_ast_nodes(code_ast.body, cell_name,\n"
     ]
    }
   ],
   "source": [
    "schools = pd.read_csv(\"schools_combined.csv\")"
   ]
  },
  {
   "cell_type": "code",
   "execution_count": 82,
   "metadata": {},
   "outputs": [
    {
     "data": {
      "text/html": [
       "<div>\n",
       "<style scoped>\n",
       "    .dataframe tbody tr th:only-of-type {\n",
       "        vertical-align: middle;\n",
       "    }\n",
       "\n",
       "    .dataframe tbody tr th {\n",
       "        vertical-align: top;\n",
       "    }\n",
       "\n",
       "    .dataframe thead th {\n",
       "        text-align: right;\n",
       "    }\n",
       "</style>\n",
       "<table border=\"1\" class=\"dataframe\">\n",
       "  <thead>\n",
       "    <tr style=\"text-align: right;\">\n",
       "      <th></th>\n",
       "      <th>Unnamed: 0</th>\n",
       "      <th>region</th>\n",
       "      <th>province</th>\n",
       "      <th>municipality</th>\n",
       "      <th>division</th>\n",
       "      <th>school_id</th>\n",
       "      <th>school_name</th>\n",
       "      <th>year_level</th>\n",
       "      <th>gender</th>\n",
       "      <th>enrollment</th>\n",
       "      <th>latitude</th>\n",
       "      <th>longitude</th>\n",
       "      <th>ID</th>\n",
       "      <th>Total_Enro</th>\n",
       "      <th>Total_Inst</th>\n",
       "      <th>Rooms_used</th>\n",
       "      <th>Rooms_unused</th>\n",
       "      <th>Type_of_Sc</th>\n",
       "      <th>Student_Teacher_Ratio</th>\n",
       "      <th>totalrooms</th>\n",
       "    </tr>\n",
       "  </thead>\n",
       "  <tbody>\n",
       "    <tr>\n",
       "      <th>0</th>\n",
       "      <td>0</td>\n",
       "      <td>Region I - Ilocos Region</td>\n",
       "      <td>Ilocos Norte</td>\n",
       "      <td>Bacarra</td>\n",
       "      <td>Ilocos Norte</td>\n",
       "      <td>100002</td>\n",
       "      <td>Bacarra CES</td>\n",
       "      <td>grade 1</td>\n",
       "      <td>male</td>\n",
       "      <td>41</td>\n",
       "      <td>18.25096389</td>\n",
       "      <td>120.6089583</td>\n",
       "      <td>100002</td>\n",
       "      <td>318</td>\n",
       "      <td>16</td>\n",
       "      <td>12.0</td>\n",
       "      <td>0.0</td>\n",
       "      <td>School with no Annexes</td>\n",
       "      <td>0.050314</td>\n",
       "      <td>12.0</td>\n",
       "    </tr>\n",
       "    <tr>\n",
       "      <th>1</th>\n",
       "      <td>1</td>\n",
       "      <td>Region I - Ilocos Region</td>\n",
       "      <td>Ilocos Norte</td>\n",
       "      <td>Bacarra</td>\n",
       "      <td>Ilocos Norte</td>\n",
       "      <td>100002</td>\n",
       "      <td>Bacarra CES</td>\n",
       "      <td>grade 1</td>\n",
       "      <td>female</td>\n",
       "      <td>30</td>\n",
       "      <td>18.25096389</td>\n",
       "      <td>120.6089583</td>\n",
       "      <td>100002</td>\n",
       "      <td>318</td>\n",
       "      <td>16</td>\n",
       "      <td>12.0</td>\n",
       "      <td>0.0</td>\n",
       "      <td>School with no Annexes</td>\n",
       "      <td>0.050314</td>\n",
       "      <td>12.0</td>\n",
       "    </tr>\n",
       "    <tr>\n",
       "      <th>2</th>\n",
       "      <td>2</td>\n",
       "      <td>Region I - Ilocos Region</td>\n",
       "      <td>Ilocos Norte</td>\n",
       "      <td>Bacarra</td>\n",
       "      <td>Ilocos Norte</td>\n",
       "      <td>100002</td>\n",
       "      <td>Bacarra CES</td>\n",
       "      <td>grade 2</td>\n",
       "      <td>male</td>\n",
       "      <td>37</td>\n",
       "      <td>18.25096389</td>\n",
       "      <td>120.6089583</td>\n",
       "      <td>100002</td>\n",
       "      <td>318</td>\n",
       "      <td>16</td>\n",
       "      <td>12.0</td>\n",
       "      <td>0.0</td>\n",
       "      <td>School with no Annexes</td>\n",
       "      <td>0.050314</td>\n",
       "      <td>12.0</td>\n",
       "    </tr>\n",
       "    <tr>\n",
       "      <th>3</th>\n",
       "      <td>3</td>\n",
       "      <td>Region I - Ilocos Region</td>\n",
       "      <td>Ilocos Norte</td>\n",
       "      <td>Bacarra</td>\n",
       "      <td>Ilocos Norte</td>\n",
       "      <td>100002</td>\n",
       "      <td>Bacarra CES</td>\n",
       "      <td>grade 2</td>\n",
       "      <td>female</td>\n",
       "      <td>38</td>\n",
       "      <td>18.25096389</td>\n",
       "      <td>120.6089583</td>\n",
       "      <td>100002</td>\n",
       "      <td>318</td>\n",
       "      <td>16</td>\n",
       "      <td>12.0</td>\n",
       "      <td>0.0</td>\n",
       "      <td>School with no Annexes</td>\n",
       "      <td>0.050314</td>\n",
       "      <td>12.0</td>\n",
       "    </tr>\n",
       "    <tr>\n",
       "      <th>4</th>\n",
       "      <td>4</td>\n",
       "      <td>Region I - Ilocos Region</td>\n",
       "      <td>Ilocos Norte</td>\n",
       "      <td>Bacarra</td>\n",
       "      <td>Ilocos Norte</td>\n",
       "      <td>100002</td>\n",
       "      <td>Bacarra CES</td>\n",
       "      <td>grade 3</td>\n",
       "      <td>male</td>\n",
       "      <td>41</td>\n",
       "      <td>18.25096389</td>\n",
       "      <td>120.6089583</td>\n",
       "      <td>100002</td>\n",
       "      <td>318</td>\n",
       "      <td>16</td>\n",
       "      <td>12.0</td>\n",
       "      <td>0.0</td>\n",
       "      <td>School with no Annexes</td>\n",
       "      <td>0.050314</td>\n",
       "      <td>12.0</td>\n",
       "    </tr>\n",
       "    <tr>\n",
       "      <th>...</th>\n",
       "      <td>...</td>\n",
       "      <td>...</td>\n",
       "      <td>...</td>\n",
       "      <td>...</td>\n",
       "      <td>...</td>\n",
       "      <td>...</td>\n",
       "      <td>...</td>\n",
       "      <td>...</td>\n",
       "      <td>...</td>\n",
       "      <td>...</td>\n",
       "      <td>...</td>\n",
       "      <td>...</td>\n",
       "      <td>...</td>\n",
       "      <td>...</td>\n",
       "      <td>...</td>\n",
       "      <td>...</td>\n",
       "      <td>...</td>\n",
       "      <td>...</td>\n",
       "      <td>...</td>\n",
       "      <td>...</td>\n",
       "    </tr>\n",
       "    <tr>\n",
       "      <th>159739</th>\n",
       "      <td>159739</td>\n",
       "      <td>Region I - Ilocos Region</td>\n",
       "      <td>Ilocos Sur</td>\n",
       "      <td>City Of Candon</td>\n",
       "      <td>Candon City</td>\n",
       "      <td>322601</td>\n",
       "      <td>Candon City Information Technology NHS</td>\n",
       "      <td>second year</td>\n",
       "      <td>female</td>\n",
       "      <td>39</td>\n",
       "      <td>17.15986111</td>\n",
       "      <td>120.4347361</td>\n",
       "      <td>322601</td>\n",
       "      <td>216</td>\n",
       "      <td>8</td>\n",
       "      <td>7.0</td>\n",
       "      <td>0.0</td>\n",
       "      <td>School with no Annexes</td>\n",
       "      <td>0.037037</td>\n",
       "      <td>7.0</td>\n",
       "    </tr>\n",
       "    <tr>\n",
       "      <th>159740</th>\n",
       "      <td>159740</td>\n",
       "      <td>Region I - Ilocos Region</td>\n",
       "      <td>Ilocos Sur</td>\n",
       "      <td>City Of Candon</td>\n",
       "      <td>Candon City</td>\n",
       "      <td>322601</td>\n",
       "      <td>Candon City Information Technology NHS</td>\n",
       "      <td>third year</td>\n",
       "      <td>male</td>\n",
       "      <td>30</td>\n",
       "      <td>17.15986111</td>\n",
       "      <td>120.4347361</td>\n",
       "      <td>322601</td>\n",
       "      <td>216</td>\n",
       "      <td>8</td>\n",
       "      <td>7.0</td>\n",
       "      <td>0.0</td>\n",
       "      <td>School with no Annexes</td>\n",
       "      <td>0.037037</td>\n",
       "      <td>7.0</td>\n",
       "    </tr>\n",
       "    <tr>\n",
       "      <th>159741</th>\n",
       "      <td>159741</td>\n",
       "      <td>Region I - Ilocos Region</td>\n",
       "      <td>Ilocos Sur</td>\n",
       "      <td>City Of Candon</td>\n",
       "      <td>Candon City</td>\n",
       "      <td>322601</td>\n",
       "      <td>Candon City Information Technology NHS</td>\n",
       "      <td>third year</td>\n",
       "      <td>female</td>\n",
       "      <td>40</td>\n",
       "      <td>17.15986111</td>\n",
       "      <td>120.4347361</td>\n",
       "      <td>322601</td>\n",
       "      <td>216</td>\n",
       "      <td>8</td>\n",
       "      <td>7.0</td>\n",
       "      <td>0.0</td>\n",
       "      <td>School with no Annexes</td>\n",
       "      <td>0.037037</td>\n",
       "      <td>7.0</td>\n",
       "    </tr>\n",
       "    <tr>\n",
       "      <th>159742</th>\n",
       "      <td>159742</td>\n",
       "      <td>Region I - Ilocos Region</td>\n",
       "      <td>Ilocos Sur</td>\n",
       "      <td>City Of Candon</td>\n",
       "      <td>Candon City</td>\n",
       "      <td>322601</td>\n",
       "      <td>Candon City Information Technology NHS</td>\n",
       "      <td>fourth year</td>\n",
       "      <td>male</td>\n",
       "      <td>26</td>\n",
       "      <td>17.15986111</td>\n",
       "      <td>120.4347361</td>\n",
       "      <td>322601</td>\n",
       "      <td>216</td>\n",
       "      <td>8</td>\n",
       "      <td>7.0</td>\n",
       "      <td>0.0</td>\n",
       "      <td>School with no Annexes</td>\n",
       "      <td>0.037037</td>\n",
       "      <td>7.0</td>\n",
       "    </tr>\n",
       "    <tr>\n",
       "      <th>159743</th>\n",
       "      <td>159743</td>\n",
       "      <td>Region I - Ilocos Region</td>\n",
       "      <td>Ilocos Sur</td>\n",
       "      <td>City Of Candon</td>\n",
       "      <td>Candon City</td>\n",
       "      <td>322601</td>\n",
       "      <td>Candon City Information Technology NHS</td>\n",
       "      <td>fourth year</td>\n",
       "      <td>female</td>\n",
       "      <td>47</td>\n",
       "      <td>17.15986111</td>\n",
       "      <td>120.4347361</td>\n",
       "      <td>322601</td>\n",
       "      <td>216</td>\n",
       "      <td>8</td>\n",
       "      <td>7.0</td>\n",
       "      <td>0.0</td>\n",
       "      <td>School with no Annexes</td>\n",
       "      <td>0.037037</td>\n",
       "      <td>7.0</td>\n",
       "    </tr>\n",
       "  </tbody>\n",
       "</table>\n",
       "<p>159744 rows × 20 columns</p>\n",
       "</div>"
      ],
      "text/plain": [
       "        Unnamed: 0                    region      province    municipality  \\\n",
       "0                0  Region I - Ilocos Region  Ilocos Norte         Bacarra   \n",
       "1                1  Region I - Ilocos Region  Ilocos Norte         Bacarra   \n",
       "2                2  Region I - Ilocos Region  Ilocos Norte         Bacarra   \n",
       "3                3  Region I - Ilocos Region  Ilocos Norte         Bacarra   \n",
       "4                4  Region I - Ilocos Region  Ilocos Norte         Bacarra   \n",
       "...            ...                       ...           ...             ...   \n",
       "159739      159739  Region I - Ilocos Region    Ilocos Sur  City Of Candon   \n",
       "159740      159740  Region I - Ilocos Region    Ilocos Sur  City Of Candon   \n",
       "159741      159741  Region I - Ilocos Region    Ilocos Sur  City Of Candon   \n",
       "159742      159742  Region I - Ilocos Region    Ilocos Sur  City Of Candon   \n",
       "159743      159743  Region I - Ilocos Region    Ilocos Sur  City Of Candon   \n",
       "\n",
       "            division  school_id                             school_name  \\\n",
       "0       Ilocos Norte     100002                             Bacarra CES   \n",
       "1       Ilocos Norte     100002                             Bacarra CES   \n",
       "2       Ilocos Norte     100002                             Bacarra CES   \n",
       "3       Ilocos Norte     100002                             Bacarra CES   \n",
       "4       Ilocos Norte     100002                             Bacarra CES   \n",
       "...              ...        ...                                     ...   \n",
       "159739   Candon City     322601  Candon City Information Technology NHS   \n",
       "159740   Candon City     322601  Candon City Information Technology NHS   \n",
       "159741   Candon City     322601  Candon City Information Technology NHS   \n",
       "159742   Candon City     322601  Candon City Information Technology NHS   \n",
       "159743   Candon City     322601  Candon City Information Technology NHS   \n",
       "\n",
       "         year_level  gender  enrollment     latitude    longitude      ID  \\\n",
       "0           grade 1    male          41  18.25096389  120.6089583  100002   \n",
       "1           grade 1  female          30  18.25096389  120.6089583  100002   \n",
       "2           grade 2    male          37  18.25096389  120.6089583  100002   \n",
       "3           grade 2  female          38  18.25096389  120.6089583  100002   \n",
       "4           grade 3    male          41  18.25096389  120.6089583  100002   \n",
       "...             ...     ...         ...          ...          ...     ...   \n",
       "159739  second year  female          39  17.15986111  120.4347361  322601   \n",
       "159740   third year    male          30  17.15986111  120.4347361  322601   \n",
       "159741   third year  female          40  17.15986111  120.4347361  322601   \n",
       "159742  fourth year    male          26  17.15986111  120.4347361  322601   \n",
       "159743  fourth year  female          47  17.15986111  120.4347361  322601   \n",
       "\n",
       "        Total_Enro  Total_Inst  Rooms_used  Rooms_unused  \\\n",
       "0              318          16        12.0           0.0   \n",
       "1              318          16        12.0           0.0   \n",
       "2              318          16        12.0           0.0   \n",
       "3              318          16        12.0           0.0   \n",
       "4              318          16        12.0           0.0   \n",
       "...            ...         ...         ...           ...   \n",
       "159739         216           8         7.0           0.0   \n",
       "159740         216           8         7.0           0.0   \n",
       "159741         216           8         7.0           0.0   \n",
       "159742         216           8         7.0           0.0   \n",
       "159743         216           8         7.0           0.0   \n",
       "\n",
       "                    Type_of_Sc  Student_Teacher_Ratio  totalrooms  \n",
       "0       School with no Annexes               0.050314        12.0  \n",
       "1       School with no Annexes               0.050314        12.0  \n",
       "2       School with no Annexes               0.050314        12.0  \n",
       "3       School with no Annexes               0.050314        12.0  \n",
       "4       School with no Annexes               0.050314        12.0  \n",
       "...                        ...                    ...         ...  \n",
       "159739  School with no Annexes               0.037037         7.0  \n",
       "159740  School with no Annexes               0.037037         7.0  \n",
       "159741  School with no Annexes               0.037037         7.0  \n",
       "159742  School with no Annexes               0.037037         7.0  \n",
       "159743  School with no Annexes               0.037037         7.0  \n",
       "\n",
       "[159744 rows x 20 columns]"
      ]
     },
     "execution_count": 82,
     "metadata": {},
     "output_type": "execute_result"
    }
   ],
   "source": [
    "schools"
   ]
  },
  {
   "cell_type": "markdown",
   "metadata": {},
   "source": [
    "#### Before proceeding with the questions, check first with your groupmates if you all have the correct dataframe."
   ]
  },
  {
   "cell_type": "markdown",
   "metadata": {},
   "source": [
    "1. What is the size of the dataframe?"
   ]
  },
  {
   "cell_type": "code",
   "execution_count": 4,
   "metadata": {},
   "outputs": [
    {
     "data": {
      "text/plain": [
       "(159744, 18)"
      ]
     },
     "execution_count": 4,
     "metadata": {},
     "output_type": "execute_result"
    }
   ],
   "source": [
    "schools.shape"
   ]
  },
  {
   "cell_type": "markdown",
   "metadata": {},
   "source": [
    "2. What are the columns?"
   ]
  },
  {
   "cell_type": "code",
   "execution_count": 5,
   "metadata": {},
   "outputs": [
    {
     "data": {
      "text/plain": [
       "Index(['Unnamed: 0', 'region', 'province', 'municipality', 'division',\n",
       "       'school_id', 'school_name', 'year_level', 'gender', 'enrollment',\n",
       "       'latitude', 'longitude', 'ID', 'Total_Enro', 'Total_Inst', 'Rooms_used',\n",
       "       'Rooms_unused', 'Type_of_Sc'],\n",
       "      dtype='object')"
      ]
     },
     "execution_count": 5,
     "metadata": {},
     "output_type": "execute_result"
    }
   ],
   "source": [
    "schools.columns"
   ]
  },
  {
   "cell_type": "markdown",
   "metadata": {},
   "source": [
    "3. How many schools are there?"
   ]
  },
  {
   "cell_type": "code",
   "execution_count": 6,
   "metadata": {},
   "outputs": [
    {
     "data": {
      "text/plain": [
       "12015"
      ]
     },
     "execution_count": 6,
     "metadata": {},
     "output_type": "execute_result"
    }
   ],
   "source": [
    "schools.school_id.nunique()\n",
    "schools.school_name.nunique()"
   ]
  },
  {
   "cell_type": "markdown",
   "metadata": {},
   "source": [
    "4. How many missing values are there?"
   ]
  },
  {
   "cell_type": "code",
   "execution_count": 7,
   "metadata": {},
   "outputs": [
    {
     "data": {
      "text/plain": [
       "Unnamed: 0       0\n",
       "region           0\n",
       "province         0\n",
       "municipality     0\n",
       "division         0\n",
       "school_id        0\n",
       "school_name      0\n",
       "year_level       0\n",
       "gender           0\n",
       "enrollment       0\n",
       "latitude         0\n",
       "longitude        0\n",
       "ID               0\n",
       "Total_Enro       0\n",
       "Total_Inst       0\n",
       "Rooms_used      12\n",
       "Rooms_unused    12\n",
       "Type_of_Sc       0\n",
       "dtype: int64"
      ]
     },
     "execution_count": 7,
     "metadata": {},
     "output_type": "execute_result"
    }
   ],
   "source": [
    "schools.isna().sum()"
   ]
  },
  {
   "cell_type": "markdown",
   "metadata": {},
   "source": [
    "Alright! Get started!"
   ]
  },
  {
   "cell_type": "markdown",
   "metadata": {},
   "source": [
    "## Exercise"
   ]
  },
  {
   "cell_type": "markdown",
   "metadata": {},
   "source": [
    "***Easy***"
   ]
  },
  {
   "cell_type": "markdown",
   "metadata": {},
   "source": [
    "1. Which has a greater number of overall enrollees: males or females? (use `enrollment` column)"
   ]
  },
  {
   "cell_type": "markdown",
   "metadata": {},
   "source": [
    "Insert markdown final answer:"
   ]
  },
  {
   "cell_type": "code",
   "execution_count": 8,
   "metadata": {},
   "outputs": [
    {
     "data": {
      "text/html": [
       "<div>\n",
       "<style scoped>\n",
       "    .dataframe tbody tr th:only-of-type {\n",
       "        vertical-align: middle;\n",
       "    }\n",
       "\n",
       "    .dataframe tbody tr th {\n",
       "        vertical-align: top;\n",
       "    }\n",
       "\n",
       "    .dataframe thead th {\n",
       "        text-align: right;\n",
       "    }\n",
       "</style>\n",
       "<table border=\"1\" class=\"dataframe\">\n",
       "  <thead>\n",
       "    <tr style=\"text-align: right;\">\n",
       "      <th></th>\n",
       "      <th>Total_Enro</th>\n",
       "    </tr>\n",
       "    <tr>\n",
       "      <th>gender</th>\n",
       "      <th></th>\n",
       "    </tr>\n",
       "  </thead>\n",
       "  <tbody>\n",
       "    <tr>\n",
       "      <th>female</th>\n",
       "      <td>79872</td>\n",
       "    </tr>\n",
       "    <tr>\n",
       "      <th>male</th>\n",
       "      <td>79872</td>\n",
       "    </tr>\n",
       "  </tbody>\n",
       "</table>\n",
       "</div>"
      ],
      "text/plain": [
       "        Total_Enro\n",
       "gender            \n",
       "female       79872\n",
       "male         79872"
      ]
     },
     "execution_count": 8,
     "metadata": {},
     "output_type": "execute_result"
    }
   ],
   "source": [
    "schools.groupby(\"gender\")[[\"Total_Enro\"]].count().sort_values(by=\"Total_Enro\", ascending=False)"
   ]
  },
  {
   "cell_type": "markdown",
   "metadata": {},
   "source": [
    "### ANSWER: schools.groupby(\"gender\")[[\"Total_Enro\"]].count().sort_values(by=\"Total_Enro\", ascending=False)"
   ]
  },
  {
   "cell_type": "markdown",
   "metadata": {},
   "source": [
    "2. How many municiapalities are covered by the dataframe?"
   ]
  },
  {
   "cell_type": "markdown",
   "metadata": {},
   "source": [
    "Insert markdown final answer:"
   ]
  },
  {
   "cell_type": "code",
   "execution_count": 9,
   "metadata": {},
   "outputs": [
    {
     "data": {
      "text/plain": [
       "996"
      ]
     },
     "execution_count": 9,
     "metadata": {},
     "output_type": "execute_result"
    }
   ],
   "source": [
    "#Insert code here\n",
    "schools[\"municipality\"].nunique()"
   ]
  },
  {
   "cell_type": "markdown",
   "metadata": {},
   "source": [
    "### ANSWER: schools[\"municipality\"].nunique()"
   ]
  },
  {
   "cell_type": "markdown",
   "metadata": {},
   "source": [
    "3. Which year_level has the highest number of enrollees? (use `enrollment` column)"
   ]
  },
  {
   "cell_type": "markdown",
   "metadata": {},
   "source": [
    "Insert markdown final answer:"
   ]
  },
  {
   "cell_type": "code",
   "execution_count": 10,
   "metadata": {},
   "outputs": [
    {
     "data": {
      "text/html": [
       "<div>\n",
       "<style scoped>\n",
       "    .dataframe tbody tr th:only-of-type {\n",
       "        vertical-align: middle;\n",
       "    }\n",
       "\n",
       "    .dataframe tbody tr th {\n",
       "        vertical-align: top;\n",
       "    }\n",
       "\n",
       "    .dataframe thead th {\n",
       "        text-align: right;\n",
       "    }\n",
       "</style>\n",
       "<table border=\"1\" class=\"dataframe\">\n",
       "  <thead>\n",
       "    <tr style=\"text-align: right;\">\n",
       "      <th></th>\n",
       "      <th>enrollment</th>\n",
       "    </tr>\n",
       "    <tr>\n",
       "      <th>year_level</th>\n",
       "      <th></th>\n",
       "    </tr>\n",
       "  </thead>\n",
       "  <tbody>\n",
       "    <tr>\n",
       "      <th>first year</th>\n",
       "      <td>2339</td>\n",
       "    </tr>\n",
       "    <tr>\n",
       "      <th>second year</th>\n",
       "      <td>1848</td>\n",
       "    </tr>\n",
       "    <tr>\n",
       "      <th>third year</th>\n",
       "      <td>1797</td>\n",
       "    </tr>\n",
       "    <tr>\n",
       "      <th>fourth year</th>\n",
       "      <td>1468</td>\n",
       "    </tr>\n",
       "    <tr>\n",
       "      <th>grade 4</th>\n",
       "      <td>816</td>\n",
       "    </tr>\n",
       "    <tr>\n",
       "      <th>grade 2</th>\n",
       "      <td>802</td>\n",
       "    </tr>\n",
       "    <tr>\n",
       "      <th>grade 3</th>\n",
       "      <td>770</td>\n",
       "    </tr>\n",
       "    <tr>\n",
       "      <th>grade 1</th>\n",
       "      <td>727</td>\n",
       "    </tr>\n",
       "    <tr>\n",
       "      <th>grade 5</th>\n",
       "      <td>705</td>\n",
       "    </tr>\n",
       "    <tr>\n",
       "      <th>grade 6</th>\n",
       "      <td>698</td>\n",
       "    </tr>\n",
       "  </tbody>\n",
       "</table>\n",
       "</div>"
      ],
      "text/plain": [
       "             enrollment\n",
       "year_level             \n",
       "first year         2339\n",
       "second year        1848\n",
       "third year         1797\n",
       "fourth year        1468\n",
       "grade 4             816\n",
       "grade 2             802\n",
       "grade 3             770\n",
       "grade 1             727\n",
       "grade 5             705\n",
       "grade 6             698"
      ]
     },
     "execution_count": 10,
     "metadata": {},
     "output_type": "execute_result"
    }
   ],
   "source": [
    "schools.groupby(\"year_level\")[[\"enrollment\"]].max().sort_values(by=\"enrollment\", ascending=False)"
   ]
  },
  {
   "cell_type": "markdown",
   "metadata": {},
   "source": [
    "### ANSWER: schools.groupby(\"year_level\")[[\"enrollment\"]].max().sort_values(by=\"enrollment\", ascending=False)"
   ]
  },
  {
   "cell_type": "markdown",
   "metadata": {},
   "source": [
    "4. Are the school_id equal to school_name? What is the discrepancy?"
   ]
  },
  {
   "cell_type": "markdown",
   "metadata": {},
   "source": [
    "Insert markdown final answer:"
   ]
  },
  {
   "cell_type": "code",
   "execution_count": 11,
   "metadata": {},
   "outputs": [
    {
     "data": {
      "text/plain": [
       "False"
      ]
     },
     "execution_count": 11,
     "metadata": {},
     "output_type": "execute_result"
    }
   ],
   "source": [
    "schools.groupby([\"school_id\"])[[\"school_name\"]].sum()\n",
    "schools.school_id.nunique() == schools.school_name.nunique()"
   ]
  },
  {
   "cell_type": "markdown",
   "metadata": {},
   "source": [
    "###  ANSWER: schools.groupby([\"school_id\"])[[\"school_name\"]].sum() \n",
    "### schools.school_id.nunique() == schools.school_name.nunique()"
   ]
  },
  {
   "cell_type": "markdown",
   "metadata": {},
   "source": [
    "5. How many teachers are there overall?"
   ]
  },
  {
   "cell_type": "markdown",
   "metadata": {},
   "source": [
    "Insert markdown final answer:"
   ]
  },
  {
   "cell_type": "code",
   "execution_count": 12,
   "metadata": {
    "scrolled": true
   },
   "outputs": [
    {
     "data": {
      "text/plain": [
       "159744"
      ]
     },
     "execution_count": 12,
     "metadata": {},
     "output_type": "execute_result"
    }
   ],
   "source": [
    "schools[\"Total_Inst\"].count()"
   ]
  },
  {
   "cell_type": "markdown",
   "metadata": {},
   "source": [
    "### ANSWER: schools[\"Total_Inst\"].count()"
   ]
  },
  {
   "cell_type": "markdown",
   "metadata": {},
   "source": [
    "***Medium***"
   ]
  },
  {
   "cell_type": "markdown",
   "metadata": {},
   "source": [
    "6. Which province has the highest count of schools? How many is it?"
   ]
  },
  {
   "cell_type": "markdown",
   "metadata": {},
   "source": [
    "Insert markdown final answer:"
   ]
  },
  {
   "cell_type": "code",
   "execution_count": 41,
   "metadata": {},
   "outputs": [
    {
     "data": {
      "text/html": [
       "<div>\n",
       "<style scoped>\n",
       "    .dataframe tbody tr th:only-of-type {\n",
       "        vertical-align: middle;\n",
       "    }\n",
       "\n",
       "    .dataframe tbody tr th {\n",
       "        vertical-align: top;\n",
       "    }\n",
       "\n",
       "    .dataframe thead th {\n",
       "        text-align: right;\n",
       "    }\n",
       "</style>\n",
       "<table border=\"1\" class=\"dataframe\">\n",
       "  <thead>\n",
       "    <tr style=\"text-align: right;\">\n",
       "      <th></th>\n",
       "      <th>school_name</th>\n",
       "    </tr>\n",
       "    <tr>\n",
       "      <th>province</th>\n",
       "      <th></th>\n",
       "    </tr>\n",
       "  </thead>\n",
       "  <tbody>\n",
       "    <tr>\n",
       "      <th>Leyte</th>\n",
       "      <td>1089</td>\n",
       "    </tr>\n",
       "    <tr>\n",
       "      <th>Pangasinan</th>\n",
       "      <td>783</td>\n",
       "    </tr>\n",
       "    <tr>\n",
       "      <th>North Cotabato</th>\n",
       "      <td>690</td>\n",
       "    </tr>\n",
       "    <tr>\n",
       "      <th>Negros Oriental</th>\n",
       "      <td>678</td>\n",
       "    </tr>\n",
       "    <tr>\n",
       "      <th>Zamboanga Del Sur</th>\n",
       "      <td>655</td>\n",
       "    </tr>\n",
       "    <tr>\n",
       "      <th>...</th>\n",
       "      <td>...</td>\n",
       "    </tr>\n",
       "    <tr>\n",
       "      <th>Mountain Province</th>\n",
       "      <td>1</td>\n",
       "    </tr>\n",
       "    <tr>\n",
       "      <th>Sulu</th>\n",
       "      <td>1</td>\n",
       "    </tr>\n",
       "    <tr>\n",
       "      <th>Zamboanga Del Norte</th>\n",
       "      <td>1</td>\n",
       "    </tr>\n",
       "    <tr>\n",
       "      <th>Apayao</th>\n",
       "      <td>1</td>\n",
       "    </tr>\n",
       "    <tr>\n",
       "      <th>Abra</th>\n",
       "      <td>1</td>\n",
       "    </tr>\n",
       "  </tbody>\n",
       "</table>\n",
       "<p>81 rows × 1 columns</p>\n",
       "</div>"
      ],
      "text/plain": [
       "                     school_name\n",
       "province                        \n",
       "Leyte                       1089\n",
       "Pangasinan                   783\n",
       "North Cotabato               690\n",
       "Negros Oriental              678\n",
       "Zamboanga Del Sur            655\n",
       "...                          ...\n",
       "Mountain Province              1\n",
       "Sulu                           1\n",
       "Zamboanga Del Norte            1\n",
       "Apayao                         1\n",
       "Abra                           1\n",
       "\n",
       "[81 rows x 1 columns]"
      ]
     },
     "execution_count": 41,
     "metadata": {},
     "output_type": "execute_result"
    }
   ],
   "source": [
    "schools.groupby(['province'])[[\"school_name\"]].nunique().sort_values(by=\"school_name\", ascending=False)"
   ]
  },
  {
   "cell_type": "markdown",
   "metadata": {},
   "source": [
    "### schools.groupby(['province'])[[\"school_name\"]].nunique().sort_values(by=\"school_name\", ascending=False) "
   ]
  },
  {
   "cell_type": "markdown",
   "metadata": {},
   "source": [
    "7. How many provinces only has one school? Which provinces are these?"
   ]
  },
  {
   "cell_type": "markdown",
   "metadata": {},
   "source": [
    "Insert markdown final answer:"
   ]
  },
  {
   "cell_type": "code",
   "execution_count": 42,
   "metadata": {},
   "outputs": [
    {
     "data": {
      "text/html": [
       "<div>\n",
       "<style scoped>\n",
       "    .dataframe tbody tr th:only-of-type {\n",
       "        vertical-align: middle;\n",
       "    }\n",
       "\n",
       "    .dataframe tbody tr th {\n",
       "        vertical-align: top;\n",
       "    }\n",
       "\n",
       "    .dataframe thead th {\n",
       "        text-align: right;\n",
       "    }\n",
       "</style>\n",
       "<table border=\"1\" class=\"dataframe\">\n",
       "  <thead>\n",
       "    <tr style=\"text-align: right;\">\n",
       "      <th></th>\n",
       "      <th>school_name</th>\n",
       "    </tr>\n",
       "    <tr>\n",
       "      <th>province</th>\n",
       "      <th></th>\n",
       "    </tr>\n",
       "  </thead>\n",
       "  <tbody>\n",
       "    <tr>\n",
       "      <th>Abra</th>\n",
       "      <td>1</td>\n",
       "    </tr>\n",
       "    <tr>\n",
       "      <th>Apayao</th>\n",
       "      <td>1</td>\n",
       "    </tr>\n",
       "    <tr>\n",
       "      <th>Mountain Province</th>\n",
       "      <td>1</td>\n",
       "    </tr>\n",
       "    <tr>\n",
       "      <th>Quirino</th>\n",
       "      <td>1</td>\n",
       "    </tr>\n",
       "    <tr>\n",
       "      <th>Sulu</th>\n",
       "      <td>1</td>\n",
       "    </tr>\n",
       "    <tr>\n",
       "      <th>Zamboanga Del Norte</th>\n",
       "      <td>1</td>\n",
       "    </tr>\n",
       "    <tr>\n",
       "      <th>Dinagat Islands</th>\n",
       "      <td>3</td>\n",
       "    </tr>\n",
       "    <tr>\n",
       "      <th>Maguindanao</th>\n",
       "      <td>4</td>\n",
       "    </tr>\n",
       "    <tr>\n",
       "      <th>Siquijor</th>\n",
       "      <td>4</td>\n",
       "    </tr>\n",
       "    <tr>\n",
       "      <th>Misamis Occidental</th>\n",
       "      <td>8</td>\n",
       "    </tr>\n",
       "  </tbody>\n",
       "</table>\n",
       "</div>"
      ],
      "text/plain": [
       "                     school_name\n",
       "province                        \n",
       "Abra                           1\n",
       "Apayao                         1\n",
       "Mountain Province              1\n",
       "Quirino                        1\n",
       "Sulu                           1\n",
       "Zamboanga Del Norte            1\n",
       "Dinagat Islands                3\n",
       "Maguindanao                    4\n",
       "Siquijor                       4\n",
       "Misamis Occidental             8"
      ]
     },
     "execution_count": 42,
     "metadata": {},
     "output_type": "execute_result"
    }
   ],
   "source": [
    "schools.groupby('province')['school_name'].nunique().nsmallest(10).to_frame()"
   ]
  },
  {
   "cell_type": "markdown",
   "metadata": {},
   "source": [
    "### schools.groupby('province')['school_name'].nunique().nsmallest(10).to_frame()"
   ]
  },
  {
   "cell_type": "markdown",
   "metadata": {},
   "source": [
    "8. How many municipalities are there in ARMM?"
   ]
  },
  {
   "cell_type": "markdown",
   "metadata": {},
   "source": [
    "Insert markdown final answer:"
   ]
  },
  {
   "cell_type": "code",
   "execution_count": 40,
   "metadata": {},
   "outputs": [
    {
     "data": {
      "text/plain": [
       "municipality    23\n",
       "dtype: int64"
      ]
     },
     "execution_count": 40,
     "metadata": {},
     "output_type": "execute_result"
    }
   ],
   "source": [
    "schools.groupby('region').get_group('ARMM - Autonomous Region in Muslim Mindanao')[['municipality']].nunique()"
   ]
  },
  {
   "cell_type": "markdown",
   "metadata": {},
   "source": [
    "### ANSWER: schools.groupby('region').get_group('ARMM - Autonomous Region in Muslim Mindanao')[['municipality']].nunique()"
   ]
  },
  {
   "cell_type": "markdown",
   "metadata": {},
   "source": [
    "9. Which school has the most number of rooms (used + unused)?"
   ]
  },
  {
   "cell_type": "markdown",
   "metadata": {},
   "source": [
    "Insert markdown final answer:"
   ]
  },
  {
   "cell_type": "code",
   "execution_count": 86,
   "metadata": {},
   "outputs": [
    {
     "data": {
      "text/html": [
       "<div>\n",
       "<style scoped>\n",
       "    .dataframe tbody tr th:only-of-type {\n",
       "        vertical-align: middle;\n",
       "    }\n",
       "\n",
       "    .dataframe tbody tr th {\n",
       "        vertical-align: top;\n",
       "    }\n",
       "\n",
       "    .dataframe thead th {\n",
       "        text-align: right;\n",
       "    }\n",
       "</style>\n",
       "<table border=\"1\" class=\"dataframe\">\n",
       "  <thead>\n",
       "    <tr style=\"text-align: right;\">\n",
       "      <th></th>\n",
       "      <th>totalrooms</th>\n",
       "    </tr>\n",
       "    <tr>\n",
       "      <th>school_name</th>\n",
       "      <th></th>\n",
       "    </tr>\n",
       "  </thead>\n",
       "  <tbody>\n",
       "    <tr>\n",
       "      <th>San Isidro ES</th>\n",
       "      <td>5868.0</td>\n",
       "    </tr>\n",
       "    <tr>\n",
       "      <th>San Jose ES</th>\n",
       "      <td>5664.0</td>\n",
       "    </tr>\n",
       "    <tr>\n",
       "      <th>San Vicente ES</th>\n",
       "      <td>4404.0</td>\n",
       "    </tr>\n",
       "    <tr>\n",
       "      <th>Rizal ES</th>\n",
       "      <td>3252.0</td>\n",
       "    </tr>\n",
       "    <tr>\n",
       "      <th>San Roque ES</th>\n",
       "      <td>3108.0</td>\n",
       "    </tr>\n",
       "    <tr>\n",
       "      <th>...</th>\n",
       "      <td>...</td>\n",
       "    </tr>\n",
       "    <tr>\n",
       "      <th>Basilica PS</th>\n",
       "      <td>0.0</td>\n",
       "    </tr>\n",
       "    <tr>\n",
       "      <th>Muabog ES</th>\n",
       "      <td>0.0</td>\n",
       "    </tr>\n",
       "    <tr>\n",
       "      <th>Taytayan ES</th>\n",
       "      <td>0.0</td>\n",
       "    </tr>\n",
       "    <tr>\n",
       "      <th>Sixto Fajardo PS (La Esperenza)</th>\n",
       "      <td>0.0</td>\n",
       "    </tr>\n",
       "    <tr>\n",
       "      <th>Ilang-Ilang ES</th>\n",
       "      <td>0.0</td>\n",
       "    </tr>\n",
       "  </tbody>\n",
       "</table>\n",
       "<p>12015 rows × 1 columns</p>\n",
       "</div>"
      ],
      "text/plain": [
       "                                 totalrooms\n",
       "school_name                                \n",
       "San Isidro ES                        5868.0\n",
       "San Jose ES                          5664.0\n",
       "San Vicente ES                       4404.0\n",
       "Rizal ES                             3252.0\n",
       "San Roque ES                         3108.0\n",
       "...                                     ...\n",
       "Basilica PS                             0.0\n",
       "Muabog ES                               0.0\n",
       "Taytayan ES                             0.0\n",
       "Sixto Fajardo PS (La Esperenza)         0.0\n",
       "Ilang-Ilang ES                          0.0\n",
       "\n",
       "[12015 rows x 1 columns]"
      ]
     },
     "execution_count": 86,
     "metadata": {},
     "output_type": "execute_result"
    }
   ],
   "source": [
    "#Insert code here\n",
    "schools[['totalrooms']] = schools[\"Rooms_used\"] + schools[\"Rooms_unused\"]\n",
    "schools.groupby('school_name')[['totalrooms']].sum().sort_values(by=\"totalrooms\", ascending=False)"
   ]
  },
  {
   "cell_type": "markdown",
   "metadata": {},
   "source": [
    "### schools[['totalrooms']] = schools[\"Rooms_used\"] + schools[\"Rooms_unused\"]\n",
    "### schools.groupby('school_name')[['totalrooms']].sum().sort_values(by=\"totalrooms\", ascending=False)"
   ]
  },
  {
   "cell_type": "markdown",
   "metadata": {},
   "source": [
    "10. Within the schools in Central Visayas, how many female enrollees do they have all in all? (use `enrollment` column)"
   ]
  },
  {
   "cell_type": "markdown",
   "metadata": {},
   "source": [
    "Insert markdown final answer:"
   ]
  },
  {
   "cell_type": "code",
   "execution_count": 68,
   "metadata": {},
   "outputs": [
    {
     "data": {
      "text/html": [
       "<div>\n",
       "<style scoped>\n",
       "    .dataframe tbody tr th:only-of-type {\n",
       "        vertical-align: middle;\n",
       "    }\n",
       "\n",
       "    .dataframe tbody tr th {\n",
       "        vertical-align: top;\n",
       "    }\n",
       "\n",
       "    .dataframe thead th {\n",
       "        text-align: right;\n",
       "    }\n",
       "</style>\n",
       "<table border=\"1\" class=\"dataframe\">\n",
       "  <thead>\n",
       "    <tr style=\"text-align: right;\">\n",
       "      <th></th>\n",
       "      <th>enrollment</th>\n",
       "    </tr>\n",
       "    <tr>\n",
       "      <th>gender</th>\n",
       "      <th></th>\n",
       "    </tr>\n",
       "  </thead>\n",
       "  <tbody>\n",
       "    <tr>\n",
       "      <th>female</th>\n",
       "      <td>222644</td>\n",
       "    </tr>\n",
       "  </tbody>\n",
       "</table>\n",
       "</div>"
      ],
      "text/plain": [
       "        enrollment\n",
       "gender            \n",
       "female      222644"
      ]
     },
     "execution_count": 68,
     "metadata": {},
     "output_type": "execute_result"
    }
   ],
   "source": [
    "schools[(schools[\"region\"] == \"Region VII - Central Visayas\") & (schools[\"gender\"] == \"female\")].groupby(\"gender\")[[\"enrollment\"]].sum().sort_values(by=\"enrollment\", ascending=False)"
   ]
  },
  {
   "cell_type": "markdown",
   "metadata": {},
   "source": [
    "### schools[(schools[\"region\"] == \"Region VII - Central Visayas\") & (schools[\"gender\"] == \"female\")].groupby(\"gender\")[[\"enrollment\"]].sum().sort_values(by=\"enrollment\", ascending=False)"
   ]
  },
  {
   "cell_type": "markdown",
   "metadata": {},
   "source": [
    "***Hard***"
   ]
  },
  {
   "cell_type": "markdown",
   "metadata": {},
   "source": [
    "11. How many secondary students are there overall? (use `enrollment` column)"
   ]
  },
  {
   "cell_type": "markdown",
   "metadata": {},
   "source": [
    "Insert markdown final answer:"
   ]
  },
  {
   "cell_type": "code",
   "execution_count": 37,
   "metadata": {},
   "outputs": [
    {
     "data": {
      "text/plain": [
       "764328"
      ]
     },
     "execution_count": 37,
     "metadata": {},
     "output_type": "execute_result"
    }
   ],
   "source": [
    "#Insert code here\n",
    "schools['year_level'].unique()\n",
    "schools[schools[\"year_level\"].str.contains(\"second year\")][\"enrollment\"].sum()"
   ]
  },
  {
   "cell_type": "markdown",
   "metadata": {},
   "source": [
    "### schools['year_level'].unique()\n",
    "### schools[schools[\"year_level\"].str.contains(\"second year\")][\"enrollment\"].sum()"
   ]
  },
  {
   "cell_type": "markdown",
   "metadata": {},
   "source": [
    "12. Which school_id has the highest teacher-student ratio?"
   ]
  },
  {
   "cell_type": "markdown",
   "metadata": {},
   "source": [
    "Insert markdown final answer:"
   ]
  },
  {
   "cell_type": "code",
   "execution_count": 19,
   "metadata": {
    "scrolled": true
   },
   "outputs": [
    {
     "data": {
      "text/html": [
       "<div>\n",
       "<style scoped>\n",
       "    .dataframe tbody tr th:only-of-type {\n",
       "        vertical-align: middle;\n",
       "    }\n",
       "\n",
       "    .dataframe tbody tr th {\n",
       "        vertical-align: top;\n",
       "    }\n",
       "\n",
       "    .dataframe thead th {\n",
       "        text-align: right;\n",
       "    }\n",
       "</style>\n",
       "<table border=\"1\" class=\"dataframe\">\n",
       "  <thead>\n",
       "    <tr style=\"text-align: right;\">\n",
       "      <th></th>\n",
       "      <th>Student_Teacher_Ratio</th>\n",
       "    </tr>\n",
       "    <tr>\n",
       "      <th>school_id</th>\n",
       "      <th></th>\n",
       "    </tr>\n",
       "  </thead>\n",
       "  <tbody>\n",
       "    <tr>\n",
       "      <th>319603</th>\n",
       "      <td>0.334661</td>\n",
       "    </tr>\n",
       "    <tr>\n",
       "      <th>319602</th>\n",
       "      <td>0.333333</td>\n",
       "    </tr>\n",
       "    <tr>\n",
       "      <th>102323</th>\n",
       "      <td>0.300000</td>\n",
       "    </tr>\n",
       "    <tr>\n",
       "      <th>109414</th>\n",
       "      <td>0.222222</td>\n",
       "    </tr>\n",
       "    <tr>\n",
       "      <th>125121</th>\n",
       "      <td>0.214286</td>\n",
       "    </tr>\n",
       "    <tr>\n",
       "      <th>...</th>\n",
       "      <td>...</td>\n",
       "    </tr>\n",
       "    <tr>\n",
       "      <th>314206</th>\n",
       "      <td>0.000000</td>\n",
       "    </tr>\n",
       "    <tr>\n",
       "      <th>125289</th>\n",
       "      <td>0.000000</td>\n",
       "    </tr>\n",
       "    <tr>\n",
       "      <th>124875</th>\n",
       "      <td>0.000000</td>\n",
       "    </tr>\n",
       "    <tr>\n",
       "      <th>313905</th>\n",
       "      <td>0.000000</td>\n",
       "    </tr>\n",
       "    <tr>\n",
       "      <th>115275</th>\n",
       "      <td>0.000000</td>\n",
       "    </tr>\n",
       "  </tbody>\n",
       "</table>\n",
       "<p>14003 rows × 1 columns</p>\n",
       "</div>"
      ],
      "text/plain": [
       "           Student_Teacher_Ratio\n",
       "school_id                       \n",
       "319603                  0.334661\n",
       "319602                  0.333333\n",
       "102323                  0.300000\n",
       "109414                  0.222222\n",
       "125121                  0.214286\n",
       "...                          ...\n",
       "314206                  0.000000\n",
       "125289                  0.000000\n",
       "124875                  0.000000\n",
       "313905                  0.000000\n",
       "115275                  0.000000\n",
       "\n",
       "[14003 rows x 1 columns]"
      ]
     },
     "execution_count": 19,
     "metadata": {},
     "output_type": "execute_result"
    }
   ],
   "source": [
    "#Insert code here\n",
    "schools[\"Student_Teacher_Ratio\"] = schools[\"Total_Inst\"] / schools[\"Total_Enro\"]\n",
    "schools.groupby(\"school_id\")[[\"Student_Teacher_Ratio\"]].max().sort_values(by=\"Student_Teacher_Ratio\", ascending=False)\n"
   ]
  },
  {
   "cell_type": "markdown",
   "metadata": {},
   "source": [
    "### schools[\"Student_Teacher_Ratio\"] = schools[\"Total_Inst\"] / schools[\"Total_Enro\"]\n",
    "### schools.groupby(\"school_id\")[[\"Student_Teacher_Ratio\"]].max().sort_values(by=\"Student_Teacher_Ratio\", ascending=False)\n"
   ]
  },
  {
   "cell_type": "code",
   "execution_count": null,
   "metadata": {},
   "outputs": [],
   "source": []
  }
 ],
 "metadata": {
  "kernelspec": {
   "display_name": "Python 3",
   "language": "python",
   "name": "python3"
  },
  "language_info": {
   "codemirror_mode": {
    "name": "ipython",
    "version": 3
   },
   "file_extension": ".py",
   "mimetype": "text/x-python",
   "name": "python",
   "nbconvert_exporter": "python",
   "pygments_lexer": "ipython3",
   "version": "3.8.8"
  }
 },
 "nbformat": 4,
 "nbformat_minor": 2
}
